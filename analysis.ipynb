{
 "cells": [
  {
   "cell_type": "code",
   "execution_count": 1,
   "id": "72b5d15c-adc5-4dff-be24-0765ca42d584",
   "metadata": {},
   "outputs": [],
   "source": [
    "import pandas as pd\n",
    "import numpy as np"
   ]
  },
  {
   "cell_type": "code",
   "execution_count": 2,
   "id": "649aee7a-6431-470b-87e4-3d9594744fea",
   "metadata": {},
   "outputs": [
    {
     "data": {
      "text/html": [
       "<div><div id=6185a3c1-84a9-4bc2-8325-a781269e3496 style=\"display:none; background-color:#9D6CFF; color:white; width:200px; height:30px; padding-left:5px; border-radius:4px; flex-direction:row; justify-content:space-around; align-items:center;\" onmouseover=\"this.style.backgroundColor='#BA9BF8'\" onmouseout=\"this.style.backgroundColor='#9D6CFF'\" onclick=\"window.commands?.execute('create-mitosheet-from-dataframe-output');\">See Full Dataframe in Mito</div> <script> if (window.commands?.hasCommand('create-mitosheet-from-dataframe-output')) document.getElementById('6185a3c1-84a9-4bc2-8325-a781269e3496').style.display = 'flex' </script> <table border=\"1\" class=\"dataframe\">\n",
       "  <thead>\n",
       "    <tr style=\"text-align: right;\">\n",
       "      <th></th>\n",
       "      <th>Pos</th>\n",
       "      <th>No</th>\n",
       "      <th>Driver</th>\n",
       "      <th>Car</th>\n",
       "      <th>Laps</th>\n",
       "      <th>Time/Retired</th>\n",
       "      <th>PTS</th>\n",
       "    </tr>\n",
       "  </thead>\n",
       "  <tbody>\n",
       "    <tr>\n",
       "      <th>0</th>\n",
       "      <td>1</td>\n",
       "      <td>1</td>\n",
       "      <td>Max Verstappen</td>\n",
       "      <td>Red Bull Racing Honda RBPT</td>\n",
       "      <td>57</td>\n",
       "      <td>33:56.7</td>\n",
       "      <td>25</td>\n",
       "    </tr>\n",
       "    <tr>\n",
       "      <th>1</th>\n",
       "      <td>2</td>\n",
       "      <td>11</td>\n",
       "      <td>Sergio Perez</td>\n",
       "      <td>Red Bull Racing Honda RBPT</td>\n",
       "      <td>57</td>\n",
       "      <td>+11.987s</td>\n",
       "      <td>18</td>\n",
       "    </tr>\n",
       "    <tr>\n",
       "      <th>2</th>\n",
       "      <td>3</td>\n",
       "      <td>14</td>\n",
       "      <td>Fernando Alonso</td>\n",
       "      <td>Aston Martin Aramco Mercedes</td>\n",
       "      <td>57</td>\n",
       "      <td>+38.637s</td>\n",
       "      <td>15</td>\n",
       "    </tr>\n",
       "    <tr>\n",
       "      <th>3</th>\n",
       "      <td>4</td>\n",
       "      <td>55</td>\n",
       "      <td>Carlos Sainz</td>\n",
       "      <td>Ferrari</td>\n",
       "      <td>57</td>\n",
       "      <td>+48.052s</td>\n",
       "      <td>12</td>\n",
       "    </tr>\n",
       "    <tr>\n",
       "      <th>4</th>\n",
       "      <td>5</td>\n",
       "      <td>44</td>\n",
       "      <td>Lewis Hamilton</td>\n",
       "      <td>Mercedes</td>\n",
       "      <td>57</td>\n",
       "      <td>+50.977s</td>\n",
       "      <td>10</td>\n",
       "    </tr>\n",
       "  </tbody>\n",
       "</table></div>"
      ],
      "text/plain": [
       "  Pos  No           Driver                           Car  Laps Time/Retired  \\\n",
       "0   1   1   Max Verstappen    Red Bull Racing Honda RBPT    57      33:56.7   \n",
       "1   2  11     Sergio Perez    Red Bull Racing Honda RBPT    57     +11.987s   \n",
       "2   3  14  Fernando Alonso  Aston Martin Aramco Mercedes    57     +38.637s   \n",
       "3   4  55     Carlos Sainz                       Ferrari    57     +48.052s   \n",
       "4   5  44   Lewis Hamilton                      Mercedes    57     +50.977s   \n",
       "\n",
       "   PTS  \n",
       "0   25  \n",
       "1   18  \n",
       "2   15  \n",
       "3   12  \n",
       "4   10  "
      ]
     },
     "execution_count": 2,
     "metadata": {},
     "output_type": "execute_result"
    }
   ],
   "source": [
    "bahrain_df = pd.read_csv('data/Bahrain.csv')\n",
    "bahrain_df.head()"
   ]
  },
  {
   "cell_type": "code",
   "execution_count": null,
   "id": "35454b8b-e12b-4bad-8632-c83c8e4a1b97",
   "metadata": {},
   "outputs": [],
   "source": []
  }
 ],
 "metadata": {
  "kernelspec": {
   "display_name": "Python 3 (ipykernel)",
   "language": "python",
   "name": "python3"
  },
  "language_info": {
   "codemirror_mode": {
    "name": "ipython",
    "version": 3
   },
   "file_extension": ".py",
   "mimetype": "text/x-python",
   "name": "python",
   "nbconvert_exporter": "python",
   "pygments_lexer": "ipython3",
   "version": "3.10.9"
  }
 },
 "nbformat": 4,
 "nbformat_minor": 5
}
