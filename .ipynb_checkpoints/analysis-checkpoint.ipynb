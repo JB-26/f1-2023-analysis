{
 "cells": [
  {
   "cell_type": "code",
   "execution_count": 1,
   "id": "72b5d15c-adc5-4dff-be24-0765ca42d584",
   "metadata": {},
   "outputs": [],
   "source": [
    "import pandas as pd\n",
    "import numpy as np"
   ]
  },
  {
   "cell_type": "markdown",
   "id": "c4dc766b-670a-4b90-aa61-479aa5f52526",
   "metadata": {},
   "source": [
    "# DataFrame for all race data\n",
    "\n",
    "This holds all the data for every race, which will be exported to a CSV file"
   ]
  },
  {
   "cell_type": "code",
   "execution_count": 12,
   "id": "f8378062-3388-475a-aaa2-39448b61da8c",
   "metadata": {},
   "outputs": [
    {
     "data": {
      "text/html": [
       "<div><div id=d5474ef2-7e81-40ba-96f6-f1606c176897 style=\"display:none; background-color:#9D6CFF; color:white; width:200px; height:30px; padding-left:5px; border-radius:4px; flex-direction:row; justify-content:space-around; align-items:center;\" onmouseover=\"this.style.backgroundColor='#BA9BF8'\" onmouseout=\"this.style.backgroundColor='#9D6CFF'\" onclick=\"window.commands?.execute('create-mitosheet-from-dataframe-output');\">See Full Dataframe in Mito</div> <script> if (window.commands?.hasCommand('create-mitosheet-from-dataframe-output')) document.getElementById('d5474ef2-7e81-40ba-96f6-f1606c176897').style.display = 'flex' </script> <table border=\"1\" class=\"dataframe\">\n",
       "  <thead>\n",
       "    <tr style=\"text-align: right;\">\n",
       "      <th></th>\n",
       "      <th>POS</th>\n",
       "      <th>Driver</th>\n",
       "      <th>Car</th>\n",
       "      <th>Laps</th>\n",
       "      <th>Time/Retired</th>\n",
       "      <th>PTS</th>\n",
       "      <th>Race</th>\n",
       "    </tr>\n",
       "  </thead>\n",
       "  <tbody>\n",
       "  </tbody>\n",
       "</table></div>"
      ],
      "text/plain": [
       "Empty DataFrame\n",
       "Columns: [POS, Driver, Car, Laps, Time/Retired, PTS, Race]\n",
       "Index: []"
      ]
     },
     "execution_count": 12,
     "metadata": {},
     "output_type": "execute_result"
    }
   ],
   "source": [
    "# dataframe for all race data\n",
    "race_results = pd.DataFrame()\n",
    "\n",
    "race_results = race_results.assign(POS = '', Driver = '', Car = '', Laps = '', Time = '', PTS = '', Race = '')\n",
    "# rename the column header\n",
    "race_results.columns = race_results.columns.str.replace('Time', 'Time/Retired')\n",
    "\n",
    "race_results.head()"
   ]
  },
  {
   "cell_type": "code",
   "execution_count": 25,
   "id": "7162eaa9-7227-4aad-9024-ffc90b84c13b",
   "metadata": {},
   "outputs": [],
   "source": [
    "race_results.to_csv('data/compiled-data/race-results.csv')"
   ]
  },
  {
   "cell_type": "markdown",
   "id": "fe078b7c-d6d5-4a68-9abb-e23f4263b2c1",
   "metadata": {},
   "source": [
    "# Add Data Function\n",
    "\n",
    "This is the function that's called to add race data to the race_results data frame.\n",
    "\n",
    "It takes the following arguments:\n",
    "\n",
    "    country_df - the data frame for the race results to be added to the race_results data frame\n",
    "    country_name - the name of the country that the race was held in\n",
    "    race_results - the data frame that stores data from each race\n",
    "    commit_mode - if you want to see a preview of what data will be added to race_results, set this argument to False. If you want to add the data, set the argument to True.\n",
    "\n"
   ]
  },
  {
   "cell_type": "code",
   "execution_count": 5,
   "id": "009e155f-3970-4458-9937-e81a942b8775",
   "metadata": {},
   "outputs": [],
   "source": [
    "def addRaceData(country_df, country_name, race_results, commit_mode):\n",
    "    \"Adds race data to the race_results data frame.\"\n",
    "    driver_count = 0\n",
    "\n",
    "    print(\"Adding data for \" + country_name)\n",
    "    print(\"Commit mode is set to \" + str(commit_mode))\n",
    "\n",
    "    try:\n",
    "        while driver_count < len(country_df.index):\n",
    "                pos = country_df.loc[driver_count, 'Pos']\n",
    "                driverNo = country_df.loc[driver_count, 'No']\n",
    "                name = country_df.loc[driver_count, 'Driver']\n",
    "                car = country_df.loc[driver_count, 'Car']\n",
    "                laps = country_df.loc[driver_count, 'Laps']\n",
    "                time = country_df.loc[driver_count, 'Time/Retired']\n",
    "                points = country_df.loc[driver_count, 'PTS']\n",
    "\n",
    "                if(commit_mode):\n",
    "                    # add row\n",
    "                    race_results.loc[-1] = [pos, name, car, laps, time, points, country_name]\n",
    "        \n",
    "                else:\n",
    "                    # print row\n",
    "                    print(pos, name, car, laps, time, points, country_name)\n",
    "\n",
    "                driver_count += 1\n",
    "\n",
    "                # shift the index\n",
    "                race_results.index = race_results.index + 1\n",
    "\n",
    "    except:\n",
    "        print(\"ERROR! Double check the arguments provided for the function.\\nHave you imported the race data CSV?\\nHas the race_results data frame been created?\")\n"
   ]
  },
  {
   "cell_type": "markdown",
   "id": "4d52a082-72d1-4eeb-9b92-1af175edb035",
   "metadata": {},
   "source": [
    "# Bahrain"
   ]
  },
  {
   "cell_type": "code",
   "execution_count": 7,
   "id": "649aee7a-6431-470b-87e4-3d9594744fea",
   "metadata": {},
   "outputs": [
    {
     "data": {
      "text/html": [
       "<div><div id=9844a421-6b30-4f2c-afa1-78c2c26c213d style=\"display:none; background-color:#9D6CFF; color:white; width:200px; height:30px; padding-left:5px; border-radius:4px; flex-direction:row; justify-content:space-around; align-items:center;\" onmouseover=\"this.style.backgroundColor='#BA9BF8'\" onmouseout=\"this.style.backgroundColor='#9D6CFF'\" onclick=\"window.commands?.execute('create-mitosheet-from-dataframe-output');\">See Full Dataframe in Mito</div> <script> if (window.commands?.hasCommand('create-mitosheet-from-dataframe-output')) document.getElementById('9844a421-6b30-4f2c-afa1-78c2c26c213d').style.display = 'flex' </script> <table border=\"1\" class=\"dataframe\">\n",
       "  <thead>\n",
       "    <tr style=\"text-align: right;\">\n",
       "      <th></th>\n",
       "      <th>Pos</th>\n",
       "      <th>No</th>\n",
       "      <th>Driver</th>\n",
       "      <th>Car</th>\n",
       "      <th>Laps</th>\n",
       "      <th>Time/Retired</th>\n",
       "      <th>PTS</th>\n",
       "    </tr>\n",
       "  </thead>\n",
       "  <tbody>\n",
       "    <tr>\n",
       "      <th>0</th>\n",
       "      <td>1</td>\n",
       "      <td>1</td>\n",
       "      <td>Max Verstappen</td>\n",
       "      <td>Red Bull Racing Honda RBPT</td>\n",
       "      <td>57</td>\n",
       "      <td>33:56.7</td>\n",
       "      <td>25</td>\n",
       "    </tr>\n",
       "    <tr>\n",
       "      <th>1</th>\n",
       "      <td>2</td>\n",
       "      <td>11</td>\n",
       "      <td>Sergio Perez</td>\n",
       "      <td>Red Bull Racing Honda RBPT</td>\n",
       "      <td>57</td>\n",
       "      <td>+11.987s</td>\n",
       "      <td>18</td>\n",
       "    </tr>\n",
       "    <tr>\n",
       "      <th>2</th>\n",
       "      <td>3</td>\n",
       "      <td>14</td>\n",
       "      <td>Fernando Alonso</td>\n",
       "      <td>Aston Martin Aramco Mercedes</td>\n",
       "      <td>57</td>\n",
       "      <td>+38.637s</td>\n",
       "      <td>15</td>\n",
       "    </tr>\n",
       "    <tr>\n",
       "      <th>3</th>\n",
       "      <td>4</td>\n",
       "      <td>55</td>\n",
       "      <td>Carlos Sainz</td>\n",
       "      <td>Ferrari</td>\n",
       "      <td>57</td>\n",
       "      <td>+48.052s</td>\n",
       "      <td>12</td>\n",
       "    </tr>\n",
       "    <tr>\n",
       "      <th>4</th>\n",
       "      <td>5</td>\n",
       "      <td>44</td>\n",
       "      <td>Lewis Hamilton</td>\n",
       "      <td>Mercedes</td>\n",
       "      <td>57</td>\n",
       "      <td>+50.977s</td>\n",
       "      <td>10</td>\n",
       "    </tr>\n",
       "  </tbody>\n",
       "</table></div>"
      ],
      "text/plain": [
       "  Pos  No           Driver                           Car  Laps Time/Retired  \\\n",
       "0   1   1   Max Verstappen    Red Bull Racing Honda RBPT    57      33:56.7   \n",
       "1   2  11     Sergio Perez    Red Bull Racing Honda RBPT    57     +11.987s   \n",
       "2   3  14  Fernando Alonso  Aston Martin Aramco Mercedes    57     +38.637s   \n",
       "3   4  55     Carlos Sainz                       Ferrari    57     +48.052s   \n",
       "4   5  44   Lewis Hamilton                      Mercedes    57     +50.977s   \n",
       "\n",
       "   PTS  \n",
       "0   25  \n",
       "1   18  \n",
       "2   15  \n",
       "3   12  \n",
       "4   10  "
      ]
     },
     "execution_count": 7,
     "metadata": {},
     "output_type": "execute_result"
    }
   ],
   "source": [
    "bahrain_df = pd.read_csv('data/Bahrain.csv')\n",
    "bahrain_df.head()"
   ]
  },
  {
   "cell_type": "code",
   "execution_count": 13,
   "id": "35454b8b-e12b-4bad-8632-c83c8e4a1b97",
   "metadata": {},
   "outputs": [
    {
     "name": "stdout",
     "output_type": "stream",
     "text": [
      "Adding data for Bahrain\n",
      "Commit mode is set to True\n"
     ]
    }
   ],
   "source": [
    "addRaceData(bahrain_df, \"Bahrain\", race_results, True)"
   ]
  },
  {
   "cell_type": "markdown",
   "id": "0c7bb88f-d9e6-4adf-8c7e-351805ce9be0",
   "metadata": {},
   "source": [
    "# Saudi Arabia"
   ]
  },
  {
   "cell_type": "code",
   "execution_count": 17,
   "id": "a6411736-e018-4307-86c2-374fb2910532",
   "metadata": {},
   "outputs": [
    {
     "data": {
      "text/html": [
       "<div><div id=0b1bc40f-a40a-4ae2-a72d-88a5435e2b52 style=\"display:none; background-color:#9D6CFF; color:white; width:200px; height:30px; padding-left:5px; border-radius:4px; flex-direction:row; justify-content:space-around; align-items:center;\" onmouseover=\"this.style.backgroundColor='#BA9BF8'\" onmouseout=\"this.style.backgroundColor='#9D6CFF'\" onclick=\"window.commands?.execute('create-mitosheet-from-dataframe-output');\">See Full Dataframe in Mito</div> <script> if (window.commands?.hasCommand('create-mitosheet-from-dataframe-output')) document.getElementById('0b1bc40f-a40a-4ae2-a72d-88a5435e2b52').style.display = 'flex' </script> <table border=\"1\" class=\"dataframe\">\n",
       "  <thead>\n",
       "    <tr style=\"text-align: right;\">\n",
       "      <th></th>\n",
       "      <th>Pos</th>\n",
       "      <th>No</th>\n",
       "      <th>Driver</th>\n",
       "      <th>Car</th>\n",
       "      <th>Laps</th>\n",
       "      <th>Time/Retired</th>\n",
       "      <th>PTS</th>\n",
       "    </tr>\n",
       "  </thead>\n",
       "  <tbody>\n",
       "    <tr>\n",
       "      <th>0</th>\n",
       "      <td>1</td>\n",
       "      <td>11</td>\n",
       "      <td>Sergio Perez</td>\n",
       "      <td>Red Bull Racing Honda RBPT</td>\n",
       "      <td>50</td>\n",
       "      <td>21:14.9</td>\n",
       "      <td>25</td>\n",
       "    </tr>\n",
       "    <tr>\n",
       "      <th>1</th>\n",
       "      <td>2</td>\n",
       "      <td>1</td>\n",
       "      <td>Max Verstappen</td>\n",
       "      <td>Red Bull Racing Honda RBPT</td>\n",
       "      <td>50</td>\n",
       "      <td>+5.355s</td>\n",
       "      <td>19</td>\n",
       "    </tr>\n",
       "    <tr>\n",
       "      <th>2</th>\n",
       "      <td>3</td>\n",
       "      <td>14</td>\n",
       "      <td>Fernando Alonso</td>\n",
       "      <td>Aston Martin Aramco Mercedes</td>\n",
       "      <td>50</td>\n",
       "      <td>+20.728s</td>\n",
       "      <td>15</td>\n",
       "    </tr>\n",
       "    <tr>\n",
       "      <th>3</th>\n",
       "      <td>4</td>\n",
       "      <td>63</td>\n",
       "      <td>George Russell</td>\n",
       "      <td>Mercedes</td>\n",
       "      <td>50</td>\n",
       "      <td>+25.866s</td>\n",
       "      <td>12</td>\n",
       "    </tr>\n",
       "    <tr>\n",
       "      <th>4</th>\n",
       "      <td>5</td>\n",
       "      <td>44</td>\n",
       "      <td>Lewis Hamilton</td>\n",
       "      <td>Mercedes</td>\n",
       "      <td>50</td>\n",
       "      <td>+31.065s</td>\n",
       "      <td>10</td>\n",
       "    </tr>\n",
       "  </tbody>\n",
       "</table></div>"
      ],
      "text/plain": [
       "  Pos  No           Driver                           Car  Laps Time/Retired  \\\n",
       "0   1  11     Sergio Perez    Red Bull Racing Honda RBPT    50      21:14.9   \n",
       "1   2   1   Max Verstappen    Red Bull Racing Honda RBPT    50      +5.355s   \n",
       "2   3  14  Fernando Alonso  Aston Martin Aramco Mercedes    50     +20.728s   \n",
       "3   4  63   George Russell                      Mercedes    50     +25.866s   \n",
       "4   5  44   Lewis Hamilton                      Mercedes    50     +31.065s   \n",
       "\n",
       "   PTS  \n",
       "0   25  \n",
       "1   19  \n",
       "2   15  \n",
       "3   12  \n",
       "4   10  "
      ]
     },
     "execution_count": 17,
     "metadata": {},
     "output_type": "execute_result"
    }
   ],
   "source": [
    "saudi_arabia_df = pd.read_csv('data/SaudiArabia.csv')\n",
    "saudi_arabia_df.head()"
   ]
  },
  {
   "cell_type": "code",
   "execution_count": 18,
   "id": "5d0d221e-f871-4d89-ba18-d86cb9d07bb2",
   "metadata": {},
   "outputs": [
    {
     "name": "stdout",
     "output_type": "stream",
     "text": [
      "Adding data for Saudi Arabia\n",
      "Commit mode is set to True\n"
     ]
    }
   ],
   "source": [
    "addRaceData(saudi_arabia_df, \"Saudi Arabia\", race_results, True)"
   ]
  },
  {
   "cell_type": "markdown",
   "id": "7870c8c8-4824-4137-a13e-51c12a929c71",
   "metadata": {},
   "source": [
    "# Australia"
   ]
  },
  {
   "cell_type": "code",
   "execution_count": 19,
   "id": "f0ae1e7b-fe8e-4f5f-a396-44f273bc0900",
   "metadata": {},
   "outputs": [
    {
     "data": {
      "text/html": [
       "<div><div id=d03204d5-2fdf-4bbb-bdad-cc50ed5e18c5 style=\"display:none; background-color:#9D6CFF; color:white; width:200px; height:30px; padding-left:5px; border-radius:4px; flex-direction:row; justify-content:space-around; align-items:center;\" onmouseover=\"this.style.backgroundColor='#BA9BF8'\" onmouseout=\"this.style.backgroundColor='#9D6CFF'\" onclick=\"window.commands?.execute('create-mitosheet-from-dataframe-output');\">See Full Dataframe in Mito</div> <script> if (window.commands?.hasCommand('create-mitosheet-from-dataframe-output')) document.getElementById('d03204d5-2fdf-4bbb-bdad-cc50ed5e18c5').style.display = 'flex' </script> <table border=\"1\" class=\"dataframe\">\n",
       "  <thead>\n",
       "    <tr style=\"text-align: right;\">\n",
       "      <th></th>\n",
       "      <th>Pos</th>\n",
       "      <th>No</th>\n",
       "      <th>Driver</th>\n",
       "      <th>Car</th>\n",
       "      <th>Laps</th>\n",
       "      <th>Time/Retired</th>\n",
       "      <th>PTS</th>\n",
       "    </tr>\n",
       "  </thead>\n",
       "  <tbody>\n",
       "    <tr>\n",
       "      <th>0</th>\n",
       "      <td>1</td>\n",
       "      <td>1</td>\n",
       "      <td>Max Verstappen</td>\n",
       "      <td>Red Bull Racing Honda RBPT</td>\n",
       "      <td>58</td>\n",
       "      <td>32:38.4</td>\n",
       "      <td>25</td>\n",
       "    </tr>\n",
       "    <tr>\n",
       "      <th>1</th>\n",
       "      <td>2</td>\n",
       "      <td>44</td>\n",
       "      <td>Lewis Hamilton</td>\n",
       "      <td>Mercedes</td>\n",
       "      <td>58</td>\n",
       "      <td>+0.179s</td>\n",
       "      <td>18</td>\n",
       "    </tr>\n",
       "    <tr>\n",
       "      <th>2</th>\n",
       "      <td>3</td>\n",
       "      <td>14</td>\n",
       "      <td>Fernando Alonso</td>\n",
       "      <td>Aston Martin Aramco Mercedes</td>\n",
       "      <td>58</td>\n",
       "      <td>+0.769s</td>\n",
       "      <td>15</td>\n",
       "    </tr>\n",
       "    <tr>\n",
       "      <th>3</th>\n",
       "      <td>4</td>\n",
       "      <td>18</td>\n",
       "      <td>Lance Stroll</td>\n",
       "      <td>Aston Martin Aramco Mercedes</td>\n",
       "      <td>58</td>\n",
       "      <td>+3.082s</td>\n",
       "      <td>12</td>\n",
       "    </tr>\n",
       "    <tr>\n",
       "      <th>4</th>\n",
       "      <td>5</td>\n",
       "      <td>11</td>\n",
       "      <td>Sergio Perez</td>\n",
       "      <td>Red Bull Racing Honda RBPT</td>\n",
       "      <td>58</td>\n",
       "      <td>+3.320s</td>\n",
       "      <td>11</td>\n",
       "    </tr>\n",
       "  </tbody>\n",
       "</table></div>"
      ],
      "text/plain": [
       "  Pos  No           Driver                           Car  Laps Time/Retired  \\\n",
       "0   1   1   Max Verstappen    Red Bull Racing Honda RBPT    58      32:38.4   \n",
       "1   2  44   Lewis Hamilton                      Mercedes    58      +0.179s   \n",
       "2   3  14  Fernando Alonso  Aston Martin Aramco Mercedes    58      +0.769s   \n",
       "3   4  18     Lance Stroll  Aston Martin Aramco Mercedes    58      +3.082s   \n",
       "4   5  11     Sergio Perez    Red Bull Racing Honda RBPT    58      +3.320s   \n",
       "\n",
       "   PTS  \n",
       "0   25  \n",
       "1   18  \n",
       "2   15  \n",
       "3   12  \n",
       "4   11  "
      ]
     },
     "execution_count": 19,
     "metadata": {},
     "output_type": "execute_result"
    }
   ],
   "source": [
    "australia_df = pd.read_csv('data/Australia.csv')\n",
    "australia_df.head()"
   ]
  },
  {
   "cell_type": "code",
   "execution_count": 20,
   "id": "047755d6-d536-41de-b1f8-af5f09cfd723",
   "metadata": {},
   "outputs": [
    {
     "name": "stdout",
     "output_type": "stream",
     "text": [
      "Adding data for Australia\n",
      "Commit mode is set to True\n"
     ]
    }
   ],
   "source": [
    "addRaceData(australia_df, \"Australia\", race_results, True)"
   ]
  },
  {
   "cell_type": "markdown",
   "id": "65e2b2e3-770b-474f-a777-e1337f6546de",
   "metadata": {},
   "source": [
    "# Azerbaijan"
   ]
  },
  {
   "cell_type": "code",
   "execution_count": 21,
   "id": "a471beae-d4ce-48f9-8fc7-4e8c4bc9b160",
   "metadata": {},
   "outputs": [
    {
     "data": {
      "text/html": [
       "<div><div id=c15e07ad-df0e-459b-9edd-5c3d8061aa50 style=\"display:none; background-color:#9D6CFF; color:white; width:200px; height:30px; padding-left:5px; border-radius:4px; flex-direction:row; justify-content:space-around; align-items:center;\" onmouseover=\"this.style.backgroundColor='#BA9BF8'\" onmouseout=\"this.style.backgroundColor='#9D6CFF'\" onclick=\"window.commands?.execute('create-mitosheet-from-dataframe-output');\">See Full Dataframe in Mito</div> <script> if (window.commands?.hasCommand('create-mitosheet-from-dataframe-output')) document.getElementById('c15e07ad-df0e-459b-9edd-5c3d8061aa50').style.display = 'flex' </script> <table border=\"1\" class=\"dataframe\">\n",
       "  <thead>\n",
       "    <tr style=\"text-align: right;\">\n",
       "      <th></th>\n",
       "      <th>Pos</th>\n",
       "      <th>No</th>\n",
       "      <th>Driver</th>\n",
       "      <th>Car</th>\n",
       "      <th>Laps</th>\n",
       "      <th>Time/Retired</th>\n",
       "      <th>PTS</th>\n",
       "    </tr>\n",
       "  </thead>\n",
       "  <tbody>\n",
       "    <tr>\n",
       "      <th>0</th>\n",
       "      <td>1</td>\n",
       "      <td>11</td>\n",
       "      <td>Sergio Perez</td>\n",
       "      <td>Red Bull Racing Honda RBPT</td>\n",
       "      <td>51</td>\n",
       "      <td>32:42.4</td>\n",
       "      <td>25</td>\n",
       "    </tr>\n",
       "    <tr>\n",
       "      <th>1</th>\n",
       "      <td>2</td>\n",
       "      <td>1</td>\n",
       "      <td>Max Verstappen</td>\n",
       "      <td>Red Bull Racing Honda RBPT</td>\n",
       "      <td>51</td>\n",
       "      <td>+2.137s</td>\n",
       "      <td>18</td>\n",
       "    </tr>\n",
       "    <tr>\n",
       "      <th>2</th>\n",
       "      <td>3</td>\n",
       "      <td>16</td>\n",
       "      <td>Charles Leclerc</td>\n",
       "      <td>Ferrari</td>\n",
       "      <td>51</td>\n",
       "      <td>+21.217s</td>\n",
       "      <td>15</td>\n",
       "    </tr>\n",
       "    <tr>\n",
       "      <th>3</th>\n",
       "      <td>4</td>\n",
       "      <td>14</td>\n",
       "      <td>Fernando Alonso</td>\n",
       "      <td>Aston Martin Aramco Mercedes</td>\n",
       "      <td>51</td>\n",
       "      <td>+22.024s</td>\n",
       "      <td>12</td>\n",
       "    </tr>\n",
       "    <tr>\n",
       "      <th>4</th>\n",
       "      <td>5</td>\n",
       "      <td>55</td>\n",
       "      <td>Carlos Sainz</td>\n",
       "      <td>Ferrari</td>\n",
       "      <td>51</td>\n",
       "      <td>+45.491s</td>\n",
       "      <td>10</td>\n",
       "    </tr>\n",
       "  </tbody>\n",
       "</table></div>"
      ],
      "text/plain": [
       "  Pos  No           Driver                           Car  Laps Time/Retired  \\\n",
       "0   1  11     Sergio Perez    Red Bull Racing Honda RBPT    51      32:42.4   \n",
       "1   2   1   Max Verstappen    Red Bull Racing Honda RBPT    51      +2.137s   \n",
       "2   3  16  Charles Leclerc                       Ferrari    51     +21.217s   \n",
       "3   4  14  Fernando Alonso  Aston Martin Aramco Mercedes    51     +22.024s   \n",
       "4   5  55     Carlos Sainz                       Ferrari    51     +45.491s   \n",
       "\n",
       "   PTS  \n",
       "0   25  \n",
       "1   18  \n",
       "2   15  \n",
       "3   12  \n",
       "4   10  "
      ]
     },
     "execution_count": 21,
     "metadata": {},
     "output_type": "execute_result"
    }
   ],
   "source": [
    "azerbaijan_df = pd.read_csv('data/Azerbaijan.csv')\n",
    "azerbaijan_df.head()"
   ]
  },
  {
   "cell_type": "code",
   "execution_count": 23,
   "id": "344d4a7a-eea6-4068-b92f-b17a83b147ba",
   "metadata": {},
   "outputs": [
    {
     "name": "stdout",
     "output_type": "stream",
     "text": [
      "Adding data for Azerbaijan\n",
      "Commit mode is set to True\n"
     ]
    }
   ],
   "source": [
    "addRaceData(azerbaijan_df, \"Azerbaijan\", race_results, True)"
   ]
  },
  {
   "cell_type": "markdown",
   "id": "f25aeff5-8939-40c1-a36c-54b68f51dfd9",
   "metadata": {},
   "source": [
    "# Miami"
   ]
  },
  {
   "cell_type": "code",
   "execution_count": 22,
   "id": "612fb925-43ae-4e6e-ac17-7fad6bf3d018",
   "metadata": {},
   "outputs": [
    {
     "data": {
      "text/html": [
       "<div><div id=6098de8a-6faa-46ab-ac59-85c62fd7c3eb style=\"display:none; background-color:#9D6CFF; color:white; width:200px; height:30px; padding-left:5px; border-radius:4px; flex-direction:row; justify-content:space-around; align-items:center;\" onmouseover=\"this.style.backgroundColor='#BA9BF8'\" onmouseout=\"this.style.backgroundColor='#9D6CFF'\" onclick=\"window.commands?.execute('create-mitosheet-from-dataframe-output');\">See Full Dataframe in Mito</div> <script> if (window.commands?.hasCommand('create-mitosheet-from-dataframe-output')) document.getElementById('6098de8a-6faa-46ab-ac59-85c62fd7c3eb').style.display = 'flex' </script> <table border=\"1\" class=\"dataframe\">\n",
       "  <thead>\n",
       "    <tr style=\"text-align: right;\">\n",
       "      <th></th>\n",
       "      <th>Pos</th>\n",
       "      <th>No</th>\n",
       "      <th>Driver</th>\n",
       "      <th>Car</th>\n",
       "      <th>Laps</th>\n",
       "      <th>Time/Retired</th>\n",
       "      <th>PTS</th>\n",
       "    </tr>\n",
       "  </thead>\n",
       "  <tbody>\n",
       "    <tr>\n",
       "      <th>0</th>\n",
       "      <td>1</td>\n",
       "      <td>1</td>\n",
       "      <td>Max Verstappen</td>\n",
       "      <td>Red Bull Racing Honda RBPT</td>\n",
       "      <td>57</td>\n",
       "      <td>27:38.2</td>\n",
       "      <td>26</td>\n",
       "    </tr>\n",
       "    <tr>\n",
       "      <th>1</th>\n",
       "      <td>2</td>\n",
       "      <td>11</td>\n",
       "      <td>Sergio Perez</td>\n",
       "      <td>Red Bull Racing Honda RBPT</td>\n",
       "      <td>57</td>\n",
       "      <td>+5.384s</td>\n",
       "      <td>18</td>\n",
       "    </tr>\n",
       "    <tr>\n",
       "      <th>2</th>\n",
       "      <td>3</td>\n",
       "      <td>14</td>\n",
       "      <td>Fernando Alonso</td>\n",
       "      <td>Aston Martin Aramco Mercedes</td>\n",
       "      <td>57</td>\n",
       "      <td>+26.305s</td>\n",
       "      <td>15</td>\n",
       "    </tr>\n",
       "    <tr>\n",
       "      <th>3</th>\n",
       "      <td>4</td>\n",
       "      <td>63</td>\n",
       "      <td>George Russell</td>\n",
       "      <td>Mercedes</td>\n",
       "      <td>57</td>\n",
       "      <td>+33.229s</td>\n",
       "      <td>12</td>\n",
       "    </tr>\n",
       "    <tr>\n",
       "      <th>4</th>\n",
       "      <td>5</td>\n",
       "      <td>55</td>\n",
       "      <td>Carlos Sainz</td>\n",
       "      <td>Ferrari</td>\n",
       "      <td>57</td>\n",
       "      <td>+42.511s</td>\n",
       "      <td>10</td>\n",
       "    </tr>\n",
       "  </tbody>\n",
       "</table></div>"
      ],
      "text/plain": [
       "   Pos  No           Driver                           Car  Laps Time/Retired  \\\n",
       "0    1   1   Max Verstappen    Red Bull Racing Honda RBPT    57      27:38.2   \n",
       "1    2  11     Sergio Perez    Red Bull Racing Honda RBPT    57      +5.384s   \n",
       "2    3  14  Fernando Alonso  Aston Martin Aramco Mercedes    57     +26.305s   \n",
       "3    4  63   George Russell                      Mercedes    57     +33.229s   \n",
       "4    5  55     Carlos Sainz                       Ferrari    57     +42.511s   \n",
       "\n",
       "   PTS  \n",
       "0   26  \n",
       "1   18  \n",
       "2   15  \n",
       "3   12  \n",
       "4   10  "
      ]
     },
     "execution_count": 22,
     "metadata": {},
     "output_type": "execute_result"
    }
   ],
   "source": [
    "miami_df = pd.read_csv('data/Miami.csv')\n",
    "miami_df.head()"
   ]
  },
  {
   "cell_type": "code",
   "execution_count": 24,
   "id": "f2c066c2-c198-4e7e-b79f-de72fee223ff",
   "metadata": {},
   "outputs": [
    {
     "name": "stdout",
     "output_type": "stream",
     "text": [
      "Adding data for Miami\n",
      "Commit mode is set to True\n"
     ]
    }
   ],
   "source": [
    "addRaceData(miami_df, \"Miami\", race_results, True)"
   ]
  },
  {
   "cell_type": "code",
   "execution_count": null,
   "id": "23337590-b20e-4f76-92f1-9b8d4208d02d",
   "metadata": {},
   "outputs": [],
   "source": []
  }
 ],
 "metadata": {
  "kernelspec": {
   "display_name": "Python 3 (ipykernel)",
   "language": "python",
   "name": "python3"
  },
  "language_info": {
   "codemirror_mode": {
    "name": "ipython",
    "version": 3
   },
   "file_extension": ".py",
   "mimetype": "text/x-python",
   "name": "python",
   "nbconvert_exporter": "python",
   "pygments_lexer": "ipython3",
   "version": "3.10.9"
  }
 },
 "nbformat": 4,
 "nbformat_minor": 5
}
